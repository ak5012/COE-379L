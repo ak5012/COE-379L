{
 "cells": [
  {
   "cell_type": "code",
   "execution_count": 12,
   "id": "2d96d380-7cc7-4538-ac8c-3d7f319ee505",
   "metadata": {},
   "outputs": [],
   "source": [
    "import pandas as pd"
   ]
  },
  {
   "cell_type": "code",
   "execution_count": 13,
   "id": "54de6ef4-6f25-4d87-8366-dbcec323c7c6",
   "metadata": {},
   "outputs": [],
   "source": [
    "pets = pd.read_csv('project1.csv')"
   ]
  },
  {
   "cell_type": "code",
   "execution_count": 14,
   "id": "d2ec5a9c-997c-4ce2-8ec0-48f7dc960692",
   "metadata": {},
   "outputs": [
    {
     "data": {
      "text/html": [
       "<div>\n",
       "<style scoped>\n",
       "    .dataframe tbody tr th:only-of-type {\n",
       "        vertical-align: middle;\n",
       "    }\n",
       "\n",
       "    .dataframe tbody tr th {\n",
       "        vertical-align: top;\n",
       "    }\n",
       "\n",
       "    .dataframe thead th {\n",
       "        text-align: right;\n",
       "    }\n",
       "</style>\n",
       "<table border=\"1\" class=\"dataframe\">\n",
       "  <thead>\n",
       "    <tr style=\"text-align: right;\">\n",
       "      <th></th>\n",
       "      <th>Animal ID</th>\n",
       "      <th>Date of Birth</th>\n",
       "      <th>Name</th>\n",
       "      <th>DateTime</th>\n",
       "      <th>MonthYear</th>\n",
       "      <th>Outcome Type</th>\n",
       "      <th>Outcome Subtype</th>\n",
       "      <th>Animal Type</th>\n",
       "      <th>Sex upon Outcome</th>\n",
       "      <th>Age upon Outcome</th>\n",
       "      <th>Breed</th>\n",
       "      <th>Color</th>\n",
       "    </tr>\n",
       "  </thead>\n",
       "  <tbody>\n",
       "    <tr>\n",
       "      <th>0</th>\n",
       "      <td>A680855</td>\n",
       "      <td>5/25/14</td>\n",
       "      <td>NaN</td>\n",
       "      <td>2014-06-10T00:00:00-05:00</td>\n",
       "      <td>Jun-14</td>\n",
       "      <td>Transfer</td>\n",
       "      <td>Partner</td>\n",
       "      <td>Bird</td>\n",
       "      <td>Unknown</td>\n",
       "      <td>2 weeks</td>\n",
       "      <td>Duck</td>\n",
       "      <td>Yellow/Black</td>\n",
       "    </tr>\n",
       "    <tr>\n",
       "      <th>1</th>\n",
       "      <td>A680857</td>\n",
       "      <td>5/25/14</td>\n",
       "      <td>NaN</td>\n",
       "      <td>2014-06-10T00:00:00-05:00</td>\n",
       "      <td>Jun-14</td>\n",
       "      <td>Transfer</td>\n",
       "      <td>Partner</td>\n",
       "      <td>Bird</td>\n",
       "      <td>Unknown</td>\n",
       "      <td>2 weeks</td>\n",
       "      <td>Duck</td>\n",
       "      <td>Yellow/Black</td>\n",
       "    </tr>\n",
       "    <tr>\n",
       "      <th>2</th>\n",
       "      <td>A680858</td>\n",
       "      <td>5/25/14</td>\n",
       "      <td>NaN</td>\n",
       "      <td>2014-06-10T00:00:00-05:00</td>\n",
       "      <td>Jun-14</td>\n",
       "      <td>Transfer</td>\n",
       "      <td>Partner</td>\n",
       "      <td>Bird</td>\n",
       "      <td>Unknown</td>\n",
       "      <td>2 weeks</td>\n",
       "      <td>Duck</td>\n",
       "      <td>Yellow/Black</td>\n",
       "    </tr>\n",
       "    <tr>\n",
       "      <th>3</th>\n",
       "      <td>A680859</td>\n",
       "      <td>5/25/14</td>\n",
       "      <td>NaN</td>\n",
       "      <td>2014-06-10T00:00:00-05:00</td>\n",
       "      <td>Jun-14</td>\n",
       "      <td>Transfer</td>\n",
       "      <td>Partner</td>\n",
       "      <td>Bird</td>\n",
       "      <td>Unknown</td>\n",
       "      <td>2 weeks</td>\n",
       "      <td>Duck</td>\n",
       "      <td>Yellow/Black</td>\n",
       "    </tr>\n",
       "    <tr>\n",
       "      <th>4</th>\n",
       "      <td>A680860</td>\n",
       "      <td>5/25/14</td>\n",
       "      <td>NaN</td>\n",
       "      <td>2014-06-10T00:00:00-05:00</td>\n",
       "      <td>Jun-14</td>\n",
       "      <td>Transfer</td>\n",
       "      <td>Partner</td>\n",
       "      <td>Bird</td>\n",
       "      <td>Unknown</td>\n",
       "      <td>2 weeks</td>\n",
       "      <td>Duck</td>\n",
       "      <td>Yellow/Black</td>\n",
       "    </tr>\n",
       "    <tr>\n",
       "      <th>...</th>\n",
       "      <td>...</td>\n",
       "      <td>...</td>\n",
       "      <td>...</td>\n",
       "      <td>...</td>\n",
       "      <td>...</td>\n",
       "      <td>...</td>\n",
       "      <td>...</td>\n",
       "      <td>...</td>\n",
       "      <td>...</td>\n",
       "      <td>...</td>\n",
       "      <td>...</td>\n",
       "      <td>...</td>\n",
       "    </tr>\n",
       "    <tr>\n",
       "      <th>131160</th>\n",
       "      <td>A671874</td>\n",
       "      <td>1/31/12</td>\n",
       "      <td>NaN</td>\n",
       "      <td>2014-02-04T10:14:00</td>\n",
       "      <td>Feb-14</td>\n",
       "      <td>Transfer</td>\n",
       "      <td>SCRP</td>\n",
       "      <td>Cat</td>\n",
       "      <td>Intact Male</td>\n",
       "      <td>2 years</td>\n",
       "      <td>Domestic Shorthair Mix</td>\n",
       "      <td>Brown Tabby</td>\n",
       "    </tr>\n",
       "    <tr>\n",
       "      <th>131161</th>\n",
       "      <td>A672142</td>\n",
       "      <td>2/4/09</td>\n",
       "      <td>Toby</td>\n",
       "      <td>2014-02-08T10:14:00</td>\n",
       "      <td>Feb-14</td>\n",
       "      <td>Transfer</td>\n",
       "      <td>Partner</td>\n",
       "      <td>Dog</td>\n",
       "      <td>Intact Male</td>\n",
       "      <td>5 years</td>\n",
       "      <td>Pekingese</td>\n",
       "      <td>Red/White</td>\n",
       "    </tr>\n",
       "    <tr>\n",
       "      <th>131162</th>\n",
       "      <td>A671565</td>\n",
       "      <td>7/6/13</td>\n",
       "      <td>NaN</td>\n",
       "      <td>2014-02-07T10:14:00</td>\n",
       "      <td>Feb-14</td>\n",
       "      <td>Transfer</td>\n",
       "      <td>SCRP</td>\n",
       "      <td>Cat</td>\n",
       "      <td>Spayed Female</td>\n",
       "      <td>7 months</td>\n",
       "      <td>Domestic Medium Hair Mix</td>\n",
       "      <td>Brown Tabby</td>\n",
       "    </tr>\n",
       "    <tr>\n",
       "      <th>131163</th>\n",
       "      <td>A675119</td>\n",
       "      <td>2/16/14</td>\n",
       "      <td>NaN</td>\n",
       "      <td>2014-03-27T08:00:00</td>\n",
       "      <td>Mar-14</td>\n",
       "      <td>Transfer</td>\n",
       "      <td>Partner</td>\n",
       "      <td>Dog</td>\n",
       "      <td>Intact Male</td>\n",
       "      <td>1 month</td>\n",
       "      <td>Pomeranian Mix</td>\n",
       "      <td>White/Brown</td>\n",
       "    </tr>\n",
       "    <tr>\n",
       "      <th>131164</th>\n",
       "      <td>A678559</td>\n",
       "      <td>5/10/11</td>\n",
       "      <td>Gatsby</td>\n",
       "      <td>2014-05-14T08:00:00</td>\n",
       "      <td>May-14</td>\n",
       "      <td>Transfer</td>\n",
       "      <td>Partner</td>\n",
       "      <td>Dog</td>\n",
       "      <td>Intact Male</td>\n",
       "      <td>3 years</td>\n",
       "      <td>Pekingese/Lhasa Apso</td>\n",
       "      <td>Buff</td>\n",
       "    </tr>\n",
       "  </tbody>\n",
       "</table>\n",
       "<p>131165 rows × 12 columns</p>\n",
       "</div>"
      ],
      "text/plain": [
       "       Animal ID Date of Birth    Name                   DateTime MonthYear  \\\n",
       "0        A680855       5/25/14     NaN  2014-06-10T00:00:00-05:00    Jun-14   \n",
       "1        A680857       5/25/14     NaN  2014-06-10T00:00:00-05:00    Jun-14   \n",
       "2        A680858       5/25/14     NaN  2014-06-10T00:00:00-05:00    Jun-14   \n",
       "3        A680859       5/25/14     NaN  2014-06-10T00:00:00-05:00    Jun-14   \n",
       "4        A680860       5/25/14     NaN  2014-06-10T00:00:00-05:00    Jun-14   \n",
       "...          ...           ...     ...                        ...       ...   \n",
       "131160   A671874       1/31/12     NaN        2014-02-04T10:14:00    Feb-14   \n",
       "131161   A672142        2/4/09    Toby        2014-02-08T10:14:00    Feb-14   \n",
       "131162   A671565        7/6/13     NaN        2014-02-07T10:14:00    Feb-14   \n",
       "131163   A675119       2/16/14     NaN        2014-03-27T08:00:00    Mar-14   \n",
       "131164   A678559       5/10/11  Gatsby        2014-05-14T08:00:00    May-14   \n",
       "\n",
       "       Outcome Type Outcome Subtype Animal Type Sex upon Outcome  \\\n",
       "0          Transfer         Partner        Bird          Unknown   \n",
       "1          Transfer         Partner        Bird          Unknown   \n",
       "2          Transfer         Partner        Bird          Unknown   \n",
       "3          Transfer         Partner        Bird          Unknown   \n",
       "4          Transfer         Partner        Bird          Unknown   \n",
       "...             ...             ...         ...              ...   \n",
       "131160     Transfer            SCRP         Cat      Intact Male   \n",
       "131161     Transfer         Partner         Dog      Intact Male   \n",
       "131162     Transfer            SCRP         Cat    Spayed Female   \n",
       "131163     Transfer         Partner         Dog      Intact Male   \n",
       "131164     Transfer         Partner         Dog      Intact Male   \n",
       "\n",
       "       Age upon Outcome                     Breed         Color  \n",
       "0               2 weeks                      Duck  Yellow/Black  \n",
       "1               2 weeks                      Duck  Yellow/Black  \n",
       "2               2 weeks                      Duck  Yellow/Black  \n",
       "3               2 weeks                      Duck  Yellow/Black  \n",
       "4               2 weeks                      Duck  Yellow/Black  \n",
       "...                 ...                       ...           ...  \n",
       "131160          2 years    Domestic Shorthair Mix   Brown Tabby  \n",
       "131161          5 years                 Pekingese     Red/White  \n",
       "131162         7 months  Domestic Medium Hair Mix   Brown Tabby  \n",
       "131163          1 month            Pomeranian Mix   White/Brown  \n",
       "131164          3 years      Pekingese/Lhasa Apso          Buff  \n",
       "\n",
       "[131165 rows x 12 columns]"
      ]
     },
     "execution_count": 14,
     "metadata": {},
     "output_type": "execute_result"
    }
   ],
   "source": [
    "pets"
   ]
  },
  {
   "cell_type": "code",
   "execution_count": 15,
   "id": "63a54caf-a5ed-4da6-8a77-750481730872",
   "metadata": {},
   "outputs": [
    {
     "data": {
      "text/plain": [
       "(131165, 12)"
      ]
     },
     "execution_count": 15,
     "metadata": {},
     "output_type": "execute_result"
    }
   ],
   "source": [
    "#Find shape of data (rows, column)\n",
    "pets.shape"
   ]
  },
  {
   "cell_type": "code",
   "execution_count": 16,
   "id": "18e17469-936c-4f75-abb0-bad56bfd08c3",
   "metadata": {},
   "outputs": [
    {
     "data": {
      "text/plain": [
       "1573980"
      ]
     },
     "execution_count": 16,
     "metadata": {},
     "output_type": "execute_result"
    }
   ],
   "source": [
    "#Find the size of data\n",
    "pets.size"
   ]
  },
  {
   "cell_type": "code",
   "execution_count": 17,
   "id": "00fb943a-195a-41d7-b9fa-6a9582dd589a",
   "metadata": {},
   "outputs": [
    {
     "name": "stdout",
     "output_type": "stream",
     "text": [
      "<class 'pandas.core.frame.DataFrame'>\n",
      "RangeIndex: 131165 entries, 0 to 131164\n",
      "Data columns (total 12 columns):\n",
      " #   Column            Non-Null Count   Dtype \n",
      "---  ------            --------------   ----- \n",
      " 0   Animal ID         131165 non-null  object\n",
      " 1   Date of Birth     131165 non-null  object\n",
      " 2   Name              93658 non-null   object\n",
      " 3   DateTime          131165 non-null  object\n",
      " 4   MonthYear         131165 non-null  object\n",
      " 5   Outcome Type      131125 non-null  object\n",
      " 6   Outcome Subtype   65810 non-null   object\n",
      " 7   Animal Type       131165 non-null  object\n",
      " 8   Sex upon Outcome  131165 non-null  object\n",
      " 9   Age upon Outcome  131165 non-null  object\n",
      " 10  Breed             131165 non-null  object\n",
      " 11  Color             131165 non-null  object\n",
      "dtypes: object(12)\n",
      "memory usage: 12.0+ MB\n"
     ]
    }
   ],
   "source": [
    "# info about the columns and data types\n",
    "pets.info()"
   ]
  },
  {
   "cell_type": "code",
   "execution_count": 7,
   "id": "76e27f2b-36cb-421d-af8e-20a90be614e2",
   "metadata": {},
   "outputs": [],
   "source": [
    "#The Animal ID should be an integer specifically a int64. The Date of Birth and Date Time would be better suited as a datetime64[ns] Data type and the Month could be represented as a Period[M]."
   ]
  },
  {
   "cell_type": "code",
   "execution_count": 18,
   "id": "f893947f-5263-4d28-a2d9-a52d1d4c5cf7",
   "metadata": {},
   "outputs": [
    {
     "data": {
      "text/plain": [
       "0         False\n",
       "1         False\n",
       "2         False\n",
       "3         False\n",
       "4         False\n",
       "          ...  \n",
       "131160    False\n",
       "131161    False\n",
       "131162    False\n",
       "131163    False\n",
       "131164    False\n",
       "Length: 131165, dtype: bool"
      ]
     },
     "execution_count": 18,
     "metadata": {},
     "output_type": "execute_result"
    }
   ],
   "source": [
    "#Detect if any rows are duplicated, returns True if data is duplicated\n",
    "pets.duplicated()"
   ]
  },
  {
   "cell_type": "code",
   "execution_count": 19,
   "id": "e176951c-225c-44f6-91e0-8c8dac01dd35",
   "metadata": {},
   "outputs": [
    {
     "data": {
      "text/plain": [
       "17"
      ]
     },
     "execution_count": 19,
     "metadata": {},
     "output_type": "execute_result"
    }
   ],
   "source": [
    "#Find all true\n",
    "pets.duplicated().sum()"
   ]
  },
  {
   "cell_type": "code",
   "execution_count": 21,
   "id": "03fee411-6698-4832-8da1-299c8edbf686",
   "metadata": {},
   "outputs": [
    {
     "data": {
      "text/html": [
       "<div>\n",
       "<style scoped>\n",
       "    .dataframe tbody tr th:only-of-type {\n",
       "        vertical-align: middle;\n",
       "    }\n",
       "\n",
       "    .dataframe tbody tr th {\n",
       "        vertical-align: top;\n",
       "    }\n",
       "\n",
       "    .dataframe thead th {\n",
       "        text-align: right;\n",
       "    }\n",
       "</style>\n",
       "<table border=\"1\" class=\"dataframe\">\n",
       "  <thead>\n",
       "    <tr style=\"text-align: right;\">\n",
       "      <th></th>\n",
       "      <th>Animal ID</th>\n",
       "      <th>Date of Birth</th>\n",
       "      <th>Name</th>\n",
       "      <th>DateTime</th>\n",
       "      <th>MonthYear</th>\n",
       "      <th>Outcome Type</th>\n",
       "      <th>Outcome Subtype</th>\n",
       "      <th>Animal Type</th>\n",
       "      <th>Sex upon Outcome</th>\n",
       "      <th>Age upon Outcome</th>\n",
       "      <th>Breed</th>\n",
       "      <th>Color</th>\n",
       "    </tr>\n",
       "  </thead>\n",
       "  <tbody>\n",
       "    <tr>\n",
       "      <th>0</th>\n",
       "      <td>A680855</td>\n",
       "      <td>5/25/14</td>\n",
       "      <td>NaN</td>\n",
       "      <td>2014-06-10T00:00:00-05:00</td>\n",
       "      <td>Jun-14</td>\n",
       "      <td>Transfer</td>\n",
       "      <td>Partner</td>\n",
       "      <td>Bird</td>\n",
       "      <td>Unknown</td>\n",
       "      <td>2 weeks</td>\n",
       "      <td>Duck</td>\n",
       "      <td>Yellow/Black</td>\n",
       "    </tr>\n",
       "    <tr>\n",
       "      <th>1</th>\n",
       "      <td>A680857</td>\n",
       "      <td>5/25/14</td>\n",
       "      <td>NaN</td>\n",
       "      <td>2014-06-10T00:00:00-05:00</td>\n",
       "      <td>Jun-14</td>\n",
       "      <td>Transfer</td>\n",
       "      <td>Partner</td>\n",
       "      <td>Bird</td>\n",
       "      <td>Unknown</td>\n",
       "      <td>2 weeks</td>\n",
       "      <td>Duck</td>\n",
       "      <td>Yellow/Black</td>\n",
       "    </tr>\n",
       "    <tr>\n",
       "      <th>2</th>\n",
       "      <td>A680858</td>\n",
       "      <td>5/25/14</td>\n",
       "      <td>NaN</td>\n",
       "      <td>2014-06-10T00:00:00-05:00</td>\n",
       "      <td>Jun-14</td>\n",
       "      <td>Transfer</td>\n",
       "      <td>Partner</td>\n",
       "      <td>Bird</td>\n",
       "      <td>Unknown</td>\n",
       "      <td>2 weeks</td>\n",
       "      <td>Duck</td>\n",
       "      <td>Yellow/Black</td>\n",
       "    </tr>\n",
       "    <tr>\n",
       "      <th>3</th>\n",
       "      <td>A680859</td>\n",
       "      <td>5/25/14</td>\n",
       "      <td>NaN</td>\n",
       "      <td>2014-06-10T00:00:00-05:00</td>\n",
       "      <td>Jun-14</td>\n",
       "      <td>Transfer</td>\n",
       "      <td>Partner</td>\n",
       "      <td>Bird</td>\n",
       "      <td>Unknown</td>\n",
       "      <td>2 weeks</td>\n",
       "      <td>Duck</td>\n",
       "      <td>Yellow/Black</td>\n",
       "    </tr>\n",
       "    <tr>\n",
       "      <th>4</th>\n",
       "      <td>A680860</td>\n",
       "      <td>5/25/14</td>\n",
       "      <td>NaN</td>\n",
       "      <td>2014-06-10T00:00:00-05:00</td>\n",
       "      <td>Jun-14</td>\n",
       "      <td>Transfer</td>\n",
       "      <td>Partner</td>\n",
       "      <td>Bird</td>\n",
       "      <td>Unknown</td>\n",
       "      <td>2 weeks</td>\n",
       "      <td>Duck</td>\n",
       "      <td>Yellow/Black</td>\n",
       "    </tr>\n",
       "    <tr>\n",
       "      <th>...</th>\n",
       "      <td>...</td>\n",
       "      <td>...</td>\n",
       "      <td>...</td>\n",
       "      <td>...</td>\n",
       "      <td>...</td>\n",
       "      <td>...</td>\n",
       "      <td>...</td>\n",
       "      <td>...</td>\n",
       "      <td>...</td>\n",
       "      <td>...</td>\n",
       "      <td>...</td>\n",
       "      <td>...</td>\n",
       "    </tr>\n",
       "    <tr>\n",
       "      <th>131160</th>\n",
       "      <td>A671874</td>\n",
       "      <td>1/31/12</td>\n",
       "      <td>NaN</td>\n",
       "      <td>2014-02-04T10:14:00</td>\n",
       "      <td>Feb-14</td>\n",
       "      <td>Transfer</td>\n",
       "      <td>SCRP</td>\n",
       "      <td>Cat</td>\n",
       "      <td>Intact Male</td>\n",
       "      <td>2 years</td>\n",
       "      <td>Domestic Shorthair Mix</td>\n",
       "      <td>Brown Tabby</td>\n",
       "    </tr>\n",
       "    <tr>\n",
       "      <th>131161</th>\n",
       "      <td>A672142</td>\n",
       "      <td>2/4/09</td>\n",
       "      <td>Toby</td>\n",
       "      <td>2014-02-08T10:14:00</td>\n",
       "      <td>Feb-14</td>\n",
       "      <td>Transfer</td>\n",
       "      <td>Partner</td>\n",
       "      <td>Dog</td>\n",
       "      <td>Intact Male</td>\n",
       "      <td>5 years</td>\n",
       "      <td>Pekingese</td>\n",
       "      <td>Red/White</td>\n",
       "    </tr>\n",
       "    <tr>\n",
       "      <th>131162</th>\n",
       "      <td>A671565</td>\n",
       "      <td>7/6/13</td>\n",
       "      <td>NaN</td>\n",
       "      <td>2014-02-07T10:14:00</td>\n",
       "      <td>Feb-14</td>\n",
       "      <td>Transfer</td>\n",
       "      <td>SCRP</td>\n",
       "      <td>Cat</td>\n",
       "      <td>Spayed Female</td>\n",
       "      <td>7 months</td>\n",
       "      <td>Domestic Medium Hair Mix</td>\n",
       "      <td>Brown Tabby</td>\n",
       "    </tr>\n",
       "    <tr>\n",
       "      <th>131163</th>\n",
       "      <td>A675119</td>\n",
       "      <td>2/16/14</td>\n",
       "      <td>NaN</td>\n",
       "      <td>2014-03-27T08:00:00</td>\n",
       "      <td>Mar-14</td>\n",
       "      <td>Transfer</td>\n",
       "      <td>Partner</td>\n",
       "      <td>Dog</td>\n",
       "      <td>Intact Male</td>\n",
       "      <td>1 month</td>\n",
       "      <td>Pomeranian Mix</td>\n",
       "      <td>White/Brown</td>\n",
       "    </tr>\n",
       "    <tr>\n",
       "      <th>131164</th>\n",
       "      <td>A678559</td>\n",
       "      <td>5/10/11</td>\n",
       "      <td>Gatsby</td>\n",
       "      <td>2014-05-14T08:00:00</td>\n",
       "      <td>May-14</td>\n",
       "      <td>Transfer</td>\n",
       "      <td>Partner</td>\n",
       "      <td>Dog</td>\n",
       "      <td>Intact Male</td>\n",
       "      <td>3 years</td>\n",
       "      <td>Pekingese/Lhasa Apso</td>\n",
       "      <td>Buff</td>\n",
       "    </tr>\n",
       "  </tbody>\n",
       "</table>\n",
       "<p>131148 rows × 12 columns</p>\n",
       "</div>"
      ],
      "text/plain": [
       "       Animal ID Date of Birth    Name                   DateTime MonthYear  \\\n",
       "0        A680855       5/25/14     NaN  2014-06-10T00:00:00-05:00    Jun-14   \n",
       "1        A680857       5/25/14     NaN  2014-06-10T00:00:00-05:00    Jun-14   \n",
       "2        A680858       5/25/14     NaN  2014-06-10T00:00:00-05:00    Jun-14   \n",
       "3        A680859       5/25/14     NaN  2014-06-10T00:00:00-05:00    Jun-14   \n",
       "4        A680860       5/25/14     NaN  2014-06-10T00:00:00-05:00    Jun-14   \n",
       "...          ...           ...     ...                        ...       ...   \n",
       "131160   A671874       1/31/12     NaN        2014-02-04T10:14:00    Feb-14   \n",
       "131161   A672142        2/4/09    Toby        2014-02-08T10:14:00    Feb-14   \n",
       "131162   A671565        7/6/13     NaN        2014-02-07T10:14:00    Feb-14   \n",
       "131163   A675119       2/16/14     NaN        2014-03-27T08:00:00    Mar-14   \n",
       "131164   A678559       5/10/11  Gatsby        2014-05-14T08:00:00    May-14   \n",
       "\n",
       "       Outcome Type Outcome Subtype Animal Type Sex upon Outcome  \\\n",
       "0          Transfer         Partner        Bird          Unknown   \n",
       "1          Transfer         Partner        Bird          Unknown   \n",
       "2          Transfer         Partner        Bird          Unknown   \n",
       "3          Transfer         Partner        Bird          Unknown   \n",
       "4          Transfer         Partner        Bird          Unknown   \n",
       "...             ...             ...         ...              ...   \n",
       "131160     Transfer            SCRP         Cat      Intact Male   \n",
       "131161     Transfer         Partner         Dog      Intact Male   \n",
       "131162     Transfer            SCRP         Cat    Spayed Female   \n",
       "131163     Transfer         Partner         Dog      Intact Male   \n",
       "131164     Transfer         Partner         Dog      Intact Male   \n",
       "\n",
       "       Age upon Outcome                     Breed         Color  \n",
       "0               2 weeks                      Duck  Yellow/Black  \n",
       "1               2 weeks                      Duck  Yellow/Black  \n",
       "2               2 weeks                      Duck  Yellow/Black  \n",
       "3               2 weeks                      Duck  Yellow/Black  \n",
       "4               2 weeks                      Duck  Yellow/Black  \n",
       "...                 ...                       ...           ...  \n",
       "131160          2 years    Domestic Shorthair Mix   Brown Tabby  \n",
       "131161          5 years                 Pekingese     Red/White  \n",
       "131162         7 months  Domestic Medium Hair Mix   Brown Tabby  \n",
       "131163          1 month            Pomeranian Mix   White/Brown  \n",
       "131164          3 years      Pekingese/Lhasa Apso          Buff  \n",
       "\n",
       "[131148 rows x 12 columns]"
      ]
     },
     "execution_count": 21,
     "metadata": {},
     "output_type": "execute_result"
    }
   ],
   "source": [
    "#Dropped all the duplicates\n",
    "pets.drop_duplicates()"
   ]
  },
  {
   "cell_type": "code",
   "execution_count": 22,
   "id": "2f09163b-4c03-43c6-90d4-f1fc307bf217",
   "metadata": {},
   "outputs": [
    {
     "data": {
      "text/plain": [
       "Animal ID               0\n",
       "Date of Birth           0\n",
       "Name                37507\n",
       "DateTime                0\n",
       "MonthYear               0\n",
       "Outcome Type           40\n",
       "Outcome Subtype     65355\n",
       "Animal Type             0\n",
       "Sex upon Outcome        0\n",
       "Age upon Outcome        0\n",
       "Breed                   0\n",
       "Color                   0\n",
       "dtype: int64"
      ]
     },
     "execution_count": 22,
     "metadata": {},
     "output_type": "execute_result"
    }
   ],
   "source": [
    "#Identifiy  missing data from each of the columns\n",
    "pets.isnull().sum()"
   ]
  },
  {
   "cell_type": "code",
   "execution_count": 23,
   "id": "ef791ec2-5f62-4f2c-b1df-59eafedac35f",
   "metadata": {},
   "outputs": [],
   "source": [
    "# fill in the missing values for Outcome Subtype by setting a missing Outcome Subtypeto be the mode of Outcome subtypes for all other pets.\n",
    "pets['Outcome Subtype'] = pets.groupby(['Outcome Type'])['Outcome Subtype'].transform(lambda x: x.fillna(x.mode()[0]if not x.mode().empty else ''))\n"
   ]
  },
  {
   "cell_type": "code",
   "execution_count": 24,
   "id": "d1b25adc-e758-47ea-a2df-8a042798a296",
   "metadata": {},
   "outputs": [],
   "source": [
    "#The name column there is too many unfilled names and you cannot do a mode, median, range for a name such its a unique idenitifer. Since the ID is presen the name is really not needed. Will just label the names that are not present as 'unknown'\n",
    "pets['Name'] = pets['Name'].fillna('Unknown')"
   ]
  },
  {
   "cell_type": "code",
   "execution_count": 25,
   "id": "7aafb9cb-ca7d-4c1b-8cf3-793bfe458f5f",
   "metadata": {},
   "outputs": [
    {
     "data": {
      "text/plain": [
       "Animal ID            0\n",
       "Date of Birth        0\n",
       "Name                 0\n",
       "DateTime             0\n",
       "MonthYear            0\n",
       "Outcome Type        40\n",
       "Outcome Subtype     40\n",
       "Animal Type          0\n",
       "Sex upon Outcome     0\n",
       "Age upon Outcome     0\n",
       "Breed                0\n",
       "Color                0\n",
       "dtype: int64"
      ]
     },
     "execution_count": 25,
     "metadata": {},
     "output_type": "execute_result"
    }
   ],
   "source": [
    "#No missing data now\n",
    "pets.isnull().sum()"
   ]
  },
  {
   "cell_type": "code",
   "execution_count": 26,
   "id": "7af764ba-a564-4418-af0f-707d793ff7ca",
   "metadata": {},
   "outputs": [
    {
     "data": {
      "text/html": [
       "<div>\n",
       "<style scoped>\n",
       "    .dataframe tbody tr th:only-of-type {\n",
       "        vertical-align: middle;\n",
       "    }\n",
       "\n",
       "    .dataframe tbody tr th {\n",
       "        vertical-align: top;\n",
       "    }\n",
       "\n",
       "    .dataframe thead th {\n",
       "        text-align: right;\n",
       "    }\n",
       "</style>\n",
       "<table border=\"1\" class=\"dataframe\">\n",
       "  <thead>\n",
       "    <tr style=\"text-align: right;\">\n",
       "      <th></th>\n",
       "      <th>Animal ID</th>\n",
       "      <th>Date of Birth</th>\n",
       "      <th>Name</th>\n",
       "      <th>DateTime</th>\n",
       "      <th>MonthYear</th>\n",
       "      <th>Outcome Type</th>\n",
       "      <th>Outcome Subtype</th>\n",
       "      <th>Animal Type</th>\n",
       "      <th>Sex upon Outcome</th>\n",
       "      <th>Age upon Outcome</th>\n",
       "      <th>Breed</th>\n",
       "      <th>Color</th>\n",
       "    </tr>\n",
       "  </thead>\n",
       "  <tbody>\n",
       "    <tr>\n",
       "      <th>count</th>\n",
       "      <td>131165</td>\n",
       "      <td>131165</td>\n",
       "      <td>131165</td>\n",
       "      <td>131165</td>\n",
       "      <td>131165</td>\n",
       "      <td>131125</td>\n",
       "      <td>131125</td>\n",
       "      <td>131165</td>\n",
       "      <td>131165</td>\n",
       "      <td>131165</td>\n",
       "      <td>131165</td>\n",
       "      <td>131165</td>\n",
       "    </tr>\n",
       "    <tr>\n",
       "      <th>unique</th>\n",
       "      <td>121258</td>\n",
       "      <td>7764</td>\n",
       "      <td>25493</td>\n",
       "      <td>108705</td>\n",
       "      <td>140</td>\n",
       "      <td>2</td>\n",
       "      <td>9</td>\n",
       "      <td>4</td>\n",
       "      <td>5</td>\n",
       "      <td>45</td>\n",
       "      <td>2527</td>\n",
       "      <td>599</td>\n",
       "    </tr>\n",
       "    <tr>\n",
       "      <th>top</th>\n",
       "      <td>A754989</td>\n",
       "      <td>4/21/14</td>\n",
       "      <td>Unknown</td>\n",
       "      <td>2016-04-18T00:00:00-05:00</td>\n",
       "      <td>Jun-19</td>\n",
       "      <td>Adoption</td>\n",
       "      <td>Foster</td>\n",
       "      <td>Dog</td>\n",
       "      <td>Neutered Male</td>\n",
       "      <td>2 months</td>\n",
       "      <td>Domestic Shorthair Mix</td>\n",
       "      <td>Black/White</td>\n",
       "    </tr>\n",
       "    <tr>\n",
       "      <th>freq</th>\n",
       "      <td>8</td>\n",
       "      <td>104</td>\n",
       "      <td>37542</td>\n",
       "      <td>39</td>\n",
       "      <td>1766</td>\n",
       "      <td>83591</td>\n",
       "      <td>83077</td>\n",
       "      <td>68064</td>\n",
       "      <td>49042</td>\n",
       "      <td>22473</td>\n",
       "      <td>30577</td>\n",
       "      <td>14017</td>\n",
       "    </tr>\n",
       "  </tbody>\n",
       "</table>\n",
       "</div>"
      ],
      "text/plain": [
       "       Animal ID Date of Birth     Name                   DateTime MonthYear  \\\n",
       "count     131165        131165   131165                     131165    131165   \n",
       "unique    121258          7764    25493                     108705       140   \n",
       "top      A754989       4/21/14  Unknown  2016-04-18T00:00:00-05:00    Jun-19   \n",
       "freq           8           104    37542                         39      1766   \n",
       "\n",
       "       Outcome Type Outcome Subtype Animal Type Sex upon Outcome  \\\n",
       "count        131125          131125      131165           131165   \n",
       "unique            2               9           4                5   \n",
       "top        Adoption          Foster         Dog    Neutered Male   \n",
       "freq          83591           83077       68064            49042   \n",
       "\n",
       "       Age upon Outcome                   Breed        Color  \n",
       "count            131165                  131165       131165  \n",
       "unique               45                    2527          599  \n",
       "top            2 months  Domestic Shorthair Mix  Black/White  \n",
       "freq              22473                   30577        14017  "
      ]
     },
     "execution_count": 26,
     "metadata": {},
     "output_type": "execute_result"
    }
   ],
   "source": [
    "pets.describe()"
   ]
  },
  {
   "cell_type": "code",
   "execution_count": 27,
   "id": "39c54ca8-eb1f-464e-963e-88c31ac8a047",
   "metadata": {},
   "outputs": [],
   "source": [
    "import seaborn as sns"
   ]
  },
  {
   "cell_type": "code",
   "execution_count": 28,
   "id": "c4493f13-2680-4a39-a0e4-acf358d6dc6e",
   "metadata": {},
   "outputs": [
    {
     "data": {
      "text/plain": [
       "<Axes: xlabel='Outcome Type', ylabel='Count'>"
      ]
     },
     "execution_count": 28,
     "metadata": {},
     "output_type": "execute_result"
    },
    {
     "data": {
      "image/png": "[encoded data removed]",
      "text/plain": [
       "<Figure size 640x480 with 1 Axes>"
      ]
     },
     "metadata": {},
     "output_type": "display_data"
    }
   ],
   "source": [
    "#Only two types of data for this graph. Looks like a majpority of pets are from the adoption center in the Austin center\n",
    "sns.histplot(data=pets['Outcome Type'])"
   ]
  },
  {
   "cell_type": "code",
   "execution_count": 29,
   "id": "be9466d3-66eb-4af4-ae77-09bd896c1387",
   "metadata": {},
   "outputs": [
    {
     "data": {
      "text/plain": [
       "<Axes: xlabel='Outcome Subtype', ylabel='Count'>"
      ]
     },
     "execution_count": 29,
     "metadata": {},
     "output_type": "execute_result"
    },
    {
     "data": {
      "image/png": "[encoded data removed]",
      "text/plain": [
       "<Figure size 640x480 with 1 Axes>"
      ]
     },
     "metadata": {},
     "output_type": "display_data"
    }
   ],
   "source": [
    "#Its good to see that a majority of pets are partnere or fostered. The line shows the foster is the most probale one through its peak.\n",
    "sns.histplot(data=pets['Outcome Subtype'], kde=True)"
   ]
  },
  {
   "cell_type": "code",
   "execution_count": 30,
   "id": "f271c438-b83b-4926-9764-7efca1806c77",
   "metadata": {},
   "outputs": [
    {
     "data": {
      "text/plain": [
       "<Axes: xlabel='Sex upon Outcome', ylabel='count'>"
      ]
     },
     "execution_count": 30,
     "metadata": {},
     "output_type": "execute_result"
    },
    {
     "data": {
      "image/png": "[encoded data removed]",
      "text/plain": [
       "<Figure size 640x480 with 1 Axes>"
      ]
     },
     "metadata": {},
     "output_type": "display_data"
    }
   ],
   "source": [
    "#Looks a majority of the pets sex are spayed females or nuetered within the Austin dog center\n",
    "sns.countplot(x=pets['Sex upon Outcome'])"
   ]
  },
  {
   "cell_type": "code",
   "execution_count": 31,
   "id": "d09cd19e-df2c-449e-83b6-b8e557f6604d",
   "metadata": {},
   "outputs": [
    {
     "data": {
      "text/plain": [
       "<Axes: xlabel='Animal Type', ylabel='count'>"
      ]
     },
     "execution_count": 31,
     "metadata": {},
     "output_type": "execute_result"
    },
    {
     "data": {
      "image/png": "[encoded data removed]",
      "text/plain": [
       "<Figure size 640x480 with 1 Axes>"
      ]
     },
     "metadata": {},
     "output_type": "display_data"
    }
   ],
   "source": [
    "#Most animals within the center or either dogs or cats, with very little being birds and almost none being cats.\n",
    "sns.countplot(x=pets['Animal Type'])"
   ]
  },
  {
   "cell_type": "code",
   "execution_count": 32,
   "id": "d9fc52af-e240-4441-ac61-dda5fc40acaa",
   "metadata": {},
   "outputs": [
    {
     "data": {
      "text/plain": [
       "<Axes: xlabel='Color', ylabel='count'>"
      ]
     },
     "execution_count": 32,
     "metadata": {},
     "output_type": "execute_result"
    },
    {
     "data": {
      "image/png": "[encoded data removed]",
      "text/plain": [
       "<Figure size 640x480 with 1 Axes>"
      ]
     },
     "metadata": {},
     "output_type": "display_data"
    }
   ],
   "source": [
    "#Hard to see the x-axis because there over 599 unique color combinations in this dataset set alone\n",
    "sns.countplot(x=pets['Color'])"
   ]
  },
  {
   "cell_type": "code",
   "execution_count": 33,
   "id": "200d53e0-f937-4881-a2fe-de4dc6dd0cd7",
   "metadata": {},
   "outputs": [],
   "source": [
    "#Conclusion: In order to visualize the data there cannot be more than 20 unique types of the data especially when dealing with count plots and histograms. More than that then the data is hard to read and essentially irrelevant."
   ]
  },
  {
   "cell_type": "code",
   "execution_count": 36,
   "id": "a1160e71-2ad6-42c1-bb36-e3a36c611211",
   "metadata": {},
   "outputs": [],
   "source": [
    "#Drop the name because it is redundant and not needed. Most pets are already nameless and the animal ID is used as the unique Identifier anyways\n",
    "pets.drop(['Name'], axis=1, inplace=True)"
   ]
  },
  {
   "cell_type": "code",
   "execution_count": 37,
   "id": "c0e35742-5346-4eea-8b28-7ffc0b6899a3",
   "metadata": {},
   "outputs": [
    {
     "data": {
      "text/plain": [
       "(131165, 11)"
      ]
     },
     "execution_count": 37,
     "metadata": {},
     "output_type": "execute_result"
    }
   ],
   "source": [
    "#Check the shape after the drop\n",
    "pets.shape"
   ]
  },
  {
   "cell_type": "code",
   "execution_count": 40,
   "id": "3972d114-8308-4c8c-b168-f486b113ed08",
   "metadata": {},
   "outputs": [
    {
     "name": "stdout",
     "output_type": "stream",
     "text": [
      "<class 'pandas.core.frame.DataFrame'>\n",
      "RangeIndex: 131165 entries, 0 to 131164\n",
      "Data columns (total 11 columns):\n",
      " #   Column            Non-Null Count   Dtype \n",
      "---  ------            --------------   ----- \n",
      " 0   Animal ID         131165 non-null  object\n",
      " 1   Date of Birth     131165 non-null  object\n",
      " 2   DateTime          131165 non-null  object\n",
      " 3   MonthYear         131165 non-null  object\n",
      " 4   Outcome Type      131125 non-null  object\n",
      " 5   Outcome Subtype   131125 non-null  object\n",
      " 6   Animal Type       131165 non-null  object\n",
      " 7   Sex upon Outcome  131165 non-null  object\n",
      " 8   Age upon Outcome  131165 non-null  object\n",
      " 9   Breed             131165 non-null  object\n",
      " 10  Color             131165 non-null  object\n",
      "dtypes: object(11)\n",
      "memory usage: 11.0+ MB\n"
     ]
    }
   ],
   "source": [
    "#Check the info of the dataset\n",
    "pets.info()"
   ]
  },
  {
   "cell_type": "code",
   "execution_count": 1,
   "id": "68f8b32c-8501-4d11-9e0c-91fe934a9594",
   "metadata": {},
   "outputs": [
    {
     "name": "stderr",
     "output_type": "stream",
     "text": [
      "/tmp/ipykernel_849/3469407385.py:3: DeprecationWarning: \n",
      "Pyarrow will become a required dependency of pandas in the next major release of pandas (pandas 3.0),\n",
      "(to allow more performant data types, such as the Arrow string type, and better interoperability with other libraries)\n",
      "but was not found to be installed on your system.\n",
      "If this would cause problems for you,\n",
      "please provide us feedback at https://github.com/pandas-dev/pandas/issues/54466\n",
      "        \n",
      "  import pandas as pd\n"
     ]
    }
   ],
   "source": [
    "#Import all these libraries needed to train the dataset\n",
    "import re\n",
    "import numpy as np\n",
    "import pandas as pd\n",
    "\n",
    "from sklearn.model_selection import train_test_split, GridSearchCV\n",
    "from sklearn.compose import ColumnTransformer\n",
    "from sklearn.preprocessing import OneHotEncoder, StandardScaler\n",
    "from sklearn.impute import SimpleImputer\n",
    "from sklearn.pipeline import Pipeline\n",
    "from sklearn.neighbors import KNeighborsClassifier\n",
    "from sklearn.linear_model import LogisticRegression\n",
    "from sklearn.metrics import (\n",
    "    accuracy_score, precision_score, recall_score, f1_score, classification_report\n",
    ")"
   ]
  },
  {
   "cell_type": "code",
   "execution_count": 2,
   "id": "9843c829-d312-4237-8f27-506f12bbb4c2",
   "metadata": {},
   "outputs": [],
   "source": [
    "import pandas as pd"
   ]
  },
  {
   "cell_type": "code",
   "execution_count": 3,
   "id": "fd79943d-7f54-4a72-8332-fc5201a4c84f",
   "metadata": {},
   "outputs": [],
   "source": [
    "#Re-Read data\n",
    "pets = pd.read_csv(\"project1.csv\")\n",
    "\n",
    "#Drop rows with missing Outcome Type\n",
    "pets = pets.dropna(subset=[\"Outcome Type\"]).copy()\n",
    "\n",
    "#Drop the Breed column (per assignment) ===\n",
    "pets = pets.drop(columns=[\"Breed\"], errors=\"ignore\")"
   ]
  },
  {
   "cell_type": "code",
   "execution_count": 4,
   "id": "b52985e6-e603-4338-aa1e-7f932d2c3159",
   "metadata": {},
   "outputs": [],
   "source": [
    "# Feature engineering: parse Age into days\n",
    "# \"Age upon Outcome\" examples: \"2 years\", \"3 weeks\", \"1 month\", \"4 days\", \"0 years\"\n",
    "UNIT_TO_DAYS = {\n",
    "    \"year\": 365, \"years\": 365,\n",
    "    \"month\": 30, \"months\": 30,\n",
    "    \"week\": 7, \"weeks\": 7,\n",
    "    \"day\": 1, \"days\": 1\n",
    "}"
   ]
  },
  {
   "cell_type": "code",
   "execution_count": 8,
   "id": "cadebfdd-7438-49d9-9fe5-53282a468628",
   "metadata": {},
   "outputs": [],
   "source": [
    "def parse_age_to_days(s):\n",
    "    if pd.isna(s):\n",
    "        return np.nan\n",
    "    s = str(s).strip().lower()\n",
    "    # 2 years\", \"1 year\", \"3 weeks\", \"0 years\"\n",
    "    m = re.match(r\"^\\s*(\\d+)\\s+([a-zA-Z]+)\\s*$\", s)\n",
    "    if not m:\n",
    "        return np.nan\n",
    "    qty = int(m.group(1))\n",
    "    unit = m.group(2)\n",
    "    mult = UNIT_TO_DAYS.get(unit, np.nan)\n",
    "    if pd.isna(mult):\n",
    "        return np.nan\n",
    "    return qty * mult\n",
    "    pets[\"AgeDays\"] = pets[\"Age upon Outcome\"].apply(parse_age_to_day)"
   ]
  },
  {
   "cell_type": "code",
   "execution_count": 11,
   "id": "d06ff0ac-5b8e-4dfa-a078-3133c1e585bf",
   "metadata": {},
   "outputs": [],
   "source": [
    "# make sure AgeDays exists\n",
    "if \"AgeDays\" not in pets.columns:\n",
    "    UNIT_TO_DAYS = {\n",
    "        \"year\": 365, \"years\": 365,\n",
    "        \"month\": 30, \"months\": 30,\n",
    "        \"week\": 7, \"weeks\": 7,\n",
    "        \"day\": 1, \"days\": 1\n",
    "    }\n",
    "    def parse_age_to_days(s):\n",
    "        if pd.isna(s):\n",
    "            return np.nan\n",
    "        s = str(s).strip().lower()\n",
    "        m = re.match(r\"^\\s*(\\d+)\\s+([a-zA-Z]+)\\s*$\", s)\n",
    "        if not m:\n",
    "            return np.nan\n",
    "        qty = int(m.group(1))\n",
    "        unit = m.group(2)\n",
    "        mult = UNIT_TO_DAYS.get(unit, np.nan)\n",
    "        if pd.isna(mult):\n",
    "            return np.nan\n",
    "        return qty * mult\n",
    "\n",
    "    pets[\"AgeDays\"] = pets[\"Age upon Outcome\"].apply(parse_age_to_days)"
   ]
  },
  {
   "cell_type": "code",
   "execution_count": 12,
   "id": "f8b6d138-f690-4b13-a366-228038bfb80f",
   "metadata": {},
   "outputs": [],
   "source": [
    "#Target the Outcome Type Column\n",
    "TARGET = \"Outcome Type\"\n",
    "categorical_cols_all = [\"Animal Type\", \"Sex upon Outcome\", \"Outcome Subtype\", \"Color\", \"MonthYear\"]\n",
    "categorical_cols = [c for c in categorical_cols_all if c in pets.columns]\n",
    "numeric_cols = [c for c in [\"AgeDays\"] if c in pets.columns]\n",
    "\n",
    "use_cols = numeric_cols + categorical_cols + [TARGET]\n",
    "pets_used = pets[use_cols].copy()"
   ]
  },
  {
   "cell_type": "code",
   "execution_count": null,
   "id": "4e45305d-9a4f-4c42-a768-42552ebf7c1c",
   "metadata": {},
   "outputs": [],
   "source": [
    "# The code below was generated by AI; see [2].\n",
    "import numpy as np\n",
    "import pandas as pd\n",
    "\n",
    "from sklearn.model_selection import train_test_split\n",
    "from sklearn.compose import ColumnTransformer\n",
    "from sklearn.preprocessing import OneHotEncoder, StandardScaler\n",
    "from sklearn.impute import SimpleImputer\n",
    "from sklearn.pipeline import Pipeline\n",
    "\n",
    "from sklearn.metrics import classification_report, accuracy_score\n",
    "\n",
    "# target + basic clean\n",
    "TARGET = \"Outcome Type\"\n",
    "assert TARGET in pets_used.columns\n",
    "\n",
    "df = pets_used.dropna(subset=[TARGET]).copy()\n",
    "y = df[TARGET].astype(str)\n",
    "\n",
    "# features = everything except target\n",
    "X = df.drop(columns=[TARGET])\n",
    "\n",
    "# figure out which columns are numeric/categorical after our selection\n",
    "num_cols = [c for c in X.columns if pd.api.types.is_numeric_dtype(X[c])]\n",
    "cat_cols = [c for c in X.columns if c not in num_cols]\n",
    "\n",
    "# stratified, reproducible split\n",
    "X_train, X_test, y_train, y_test = train_test_split(\n",
    "    X, y, test_size=0.30, stratify=y, random_state=1\n",
    ")\n",
    "\n",
    "# common preprocessor\n",
    "numeric_pipe = Pipeline(steps=[\n",
    "    (\"imputer\", SimpleImputer(strategy=\"median\")),\n",
    "    (\"scaler\", StandardScaler())\n",
    "])\n",
    "\n",
    "categorical_pipe = Pipeline(steps=[\n",
    "    (\"imputer\", SimpleImputer(strategy=\"most_frequent\")),\n",
    "    (\"ohe\", OneHotEncoder(handle_unknown=\"ignore\"))\n",
    "])\n",
    "\n",
    "preprocessor = ColumnTransformer(\n",
    "    transformers=[\n",
    "        (\"num\", numeric_pipe, num_cols),\n",
    "        (\"cat\", categorical_pipe, cat_cols),\n",
    "    ],\n",
    "    remainder=\"drop\"\n",
    ")\n",
    "\n",
    "# handy function to print a full report\n",
    "def print_model_report(name, y_true, y_pred):\n",
    "    acc = accuracy_score(y_true, y_pred)\n",
    "    print(f\"\\n=== {name} ===\")\n",
    "    print(f\"Accuracy: {acc:0.4f}\")\n",
    "    # For multi-class, macro avg treats all classes equally (not dominated by frequent classes)\n",
    "    print(classification_report(y_true, y_pred, digits=4))\n"
   ]
  },
  {
   "cell_type": "code",
   "execution_count": 14,
   "id": "28c6081c-b5e3-4975-ade6-f957d5e98175",
   "metadata": {},
   "outputs": [
    {
     "name": "stdout",
     "output_type": "stream",
     "text": [
      "\n",
      "=== KNN (n_neighbors=15) ===\n",
      "Accuracy: 0.8779\n",
      "              precision    recall  f1-score   support\n",
      "\n",
      "    Adoption     0.8634    0.9604    0.9093     25078\n",
      "    Transfer     0.9132    0.7327    0.8130     14260\n",
      "\n",
      "    accuracy                         0.8779     39338\n",
      "   macro avg     0.8883    0.8465    0.8612     39338\n",
      "weighted avg     0.8814    0.8779    0.8744     39338\n",
      "\n"
     ]
    }
   ],
   "source": [
    "from sklearn.neighbors import KNeighborsClassifier\n",
    "\n",
    "knn = Pipeline(steps=[\n",
    "    (\"prep\", preprocessor),\n",
    "    (\"clf\", KNeighborsClassifier(n_neighbors=15))  # a reasonable starting point\n",
    "])\n",
    "\n",
    "knn.fit(X_train, y_train)\n",
    "knn_pred = knn.predict(X_test)\n",
    "print_model_report(\"KNN (n_neighbors=15)\", y_test, knn_pred)\n"
   ]
  },
  {
   "cell_type": "code",
   "execution_count": null,
   "id": "b0fb9390-faec-48f8-9072-1e8bd03c6fd7",
   "metadata": {},
   "outputs": [
    {
     "name": "stdout",
     "output_type": "stream",
     "text": [
      "Fitting 3 folds for each of 4 candidates, totalling 12 fits\n"
     ]
    }
   ],
   "source": [
    "# The code below was generated by AI; see [1].\n",
    "from sklearn.model_selection import GridSearchCV\n",
    "from sklearn.neighbors import KNeighborsClassifier\n",
    "from sklearn.pipeline import Pipeline\n",
    "\n",
    "# KNN pipeline (reuse your existing `preprocessor`)\n",
    "knn_grid = Pipeline(steps=[\n",
    "    (\"prep\", preprocessor),\n",
    "    (\"clf\", KNeighborsClassifier(n_jobs=-1))\n",
    "])\n",
    "\n",
    "# Very small grid: 2 × 2 × 1 = 4 combos; with cv=3 ⇒ 12 fits total\n",
    "param_grid = {\n",
    "    \"clf__n_neighbors\": [1,5],\n",
    "    \"clf__weights\": [\"uniform\",\"distance\"],\n",
    "    \"clf__p\": [1],               # 1=Manhattan, 2=Euclidean\n",
    "}\n",
    "\n",
    "gscv = GridSearchCV(\n",
    "    estimator=knn_grid,\n",
    "    param_grid=param_grid,\n",
    "    scoring=\"f1_macro\",             # or \"f1\" if binary with positive label\n",
    "    cv=3,\n",
    "    n_jobs=-1,\n",
    "    verbose=1\n",
    ")\n",
    "gscv.fit(X_train, y_train)\n",
    "\n",
    "best_knn = gscv.best_estimator_\n",
    "print(\"Best KNN params:\", gscv.best_params_)"
   ]
  },
  {
   "cell_type": "code",
   "execution_count": 33,
   "id": "2513acd7-8d7c-418f-9df0-9b5aedbadd8d",
   "metadata": {},
   "outputs": [],
   "source": [
    "from sklearn.linear_model import LogisticRegression\n",
    "\n",
    "lin_clf = Pipeline([\n",
    "    (\"prep\", preprocessor),\n",
    "    (\"clf\", LogisticRegression(max_iter=1000, n_jobs=-1, solver=\"saga\"))\n",
    "]).fit(X_train, y_train)"
   ]
  },
  {
   "cell_type": "code",
   "execution_count": 34,
   "id": "01641016-7462-4d9c-a614-ff009c64c0c8",
   "metadata": {},
   "outputs": [
    {
     "name": "stdout",
     "output_type": "stream",
     "text": [
      "KNN (plain)\n",
      "              precision    recall  f1-score   support\n",
      "\n",
      "    Adoption       0.87      0.93      0.90     25078\n",
      "    Transfer       0.86      0.75      0.80     14260\n",
      "\n",
      "    accuracy                           0.86     39338\n",
      "   macro avg       0.86      0.84      0.85     39338\n",
      "weighted avg       0.86      0.86      0.86     39338\n",
      "\n"
     ]
    }
   ],
   "source": [
    "knn_plain = Pipeline([(\"prep\", preprocessor),\n",
    "                      (\"clf\", KNeighborsClassifier(n_neighbors=5, p=1, weights=\"uniform\"))])\n",
    "knn_plain.fit(X_train, y_train)\n",
    "y_pred_knn_plain = knn_plain.predict(X_test)\n",
    "print(\"KNN (plain)\"); print(classification_report(y_test, y_pred_knn_plain))"
   ]
  },
  {
   "cell_type": "code",
   "execution_count": 35,
   "id": "b2404049-b491-40f7-b27e-356634690789",
   "metadata": {},
   "outputs": [
    {
     "name": "stdout",
     "output_type": "stream",
     "text": [
      "Linear classifier\n",
      "              precision    recall  f1-score   support\n",
      "\n",
      "    Adoption       0.86      0.96      0.91     25078\n",
      "    Transfer       0.92      0.74      0.82     14260\n",
      "\n",
      "    accuracy                           0.88     39338\n",
      "   macro avg       0.89      0.85      0.86     39338\n",
      "weighted avg       0.88      0.88      0.88     39338\n",
      "\n"
     ]
    }
   ],
   "source": [
    "from sklearn.linear_model import SGDClassifier\n",
    "\n",
    "lin_clf = Pipeline([(\"prep\", preprocessor),\n",
    "                    (\"clf\", SGDClassifier(loss=\"log_loss\", alpha=1e-4, random_state=1))])\n",
    "lin_clf.fit(X_train, y_train)\n",
    "y_pred_lin = lin_clf.predict(X_test)\n",
    "print(\"Linear classifier\"); print(classification_report(y_test, y_pred_lin))\n"
   ]
  },
  {
   "cell_type": "code",
   "execution_count": 27,
   "id": "c6d3d18a-576c-44bf-a93a-4ec95790e7df",
   "metadata": {},
   "outputs": [
    {
     "name": "stdout",
     "output_type": "stream",
     "text": [
      "\n",
      "=== KNN (baseline) ===\n",
      "Accuracy: 0.8648\n",
      "              precision    recall  f1-score   support\n",
      "\n",
      "    Adoption     0.8671    0.9305    0.8977     25078\n",
      "    Transfer     0.8597    0.7493    0.8007     14260\n",
      "\n",
      "    accuracy                         0.8648     39338\n",
      "   macro avg     0.8634    0.8399    0.8492     39338\n",
      "weighted avg     0.8644    0.8648    0.8625     39338\n",
      "\n",
      "\n",
      "=== KNN (GridSearchCV) ===\n",
      "Accuracy: 0.8648\n",
      "              precision    recall  f1-score   support\n",
      "\n",
      "    Adoption     0.8671    0.9305    0.8977     25078\n",
      "    Transfer     0.8597    0.7493    0.8007     14260\n",
      "\n",
      "    accuracy                         0.8648     39338\n",
      "   macro avg     0.8634    0.8399    0.8492     39338\n",
      "weighted avg     0.8644    0.8648    0.8625     39338\n",
      "\n",
      "\n",
      "=== Linear classifier ===\n",
      "Accuracy: 0.8804\n",
      "              precision    recall  f1-score   support\n",
      "\n",
      "    Adoption     0.8648    0.9630    0.9113     25078\n",
      "    Transfer     0.9186    0.7353    0.8168     14260\n",
      "\n",
      "    accuracy                         0.8804     39338\n",
      "   macro avg     0.8917    0.8491    0.8640     39338\n",
      "weighted avg     0.8843    0.8804    0.8770     39338\n",
      "\n"
     ]
    }
   ],
   "source": [
    "from sklearn.metrics import accuracy_score, classification_report\n",
    "\n",
    "def evaluate_model(model, name, X_test, y_test):\n",
    "    y_pred = model.predict(X_test)\n",
    "    acc = accuracy_score(y_test, y_pred)\n",
    "    print(f\"\\n=== {name} ===\")\n",
    "    print(f\"Accuracy: {acc:0.4f}\")\n",
    "    print(classification_report(y_test, y_pred, digits=4))\n",
    "\n",
    "# Evaluate all three\n",
    "evaluate_model(knn_plain,      \"KNN (baseline)\",        X_test, y_test)\n",
    "evaluate_model(best_knn,       \"KNN (GridSearchCV)\",    X_test, y_test)\n",
    "evaluate_model(lin_clf,        \"Linear classifier\",     X_test, y_test)\n"
   ]
  },
  {
   "cell_type": "code",
   "execution_count": null,
   "id": "87653605-0352-40dc-8c9a-b708d86e2cc3",
   "metadata": {},
   "outputs": [],
   "source": []
  }
 ],
 "metadata": {
  "kernelspec": {
   "display_name": "Python 3 (ipykernel)",
   "language": "python",
   "name": "python3"
  },
  "language_info": {
   "codemirror_mode": {
    "name": "ipython",
    "version": 3
   },
   "file_extension": ".py",
   "mimetype": "text/x-python",
   "name": "python",
   "nbconvert_exporter": "python",
   "pygments_lexer": "ipython3",
   "version": "3.11.1"
  }
 },
 "nbformat": 4,
 "nbformat_minor": 5
}
